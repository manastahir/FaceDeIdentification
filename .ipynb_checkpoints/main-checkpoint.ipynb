{
 "cells": [
  {
   "cell_type": "code",
   "execution_count": 1,
   "metadata": {},
   "outputs": [
    {
     "name": "stderr",
     "output_type": "stream",
     "text": [
      "COMET INFO: Experiment is live on comet.ml https://www.comet.ml/anastahir/face-deidentification-256/fd993dc5fb844712abaa6780224f79db\n",
      "\n"
     ]
    }
   ],
   "source": [
    "from comet_ml import Experiment,ExistingExperiment\n",
    "\n",
    "# experiment = Experiment(api_key=\"MMehTpWSVV3FsYXMlNUCADXTQ\",\n",
    "#                         project_name=\"Face-deIdentification-256\", \n",
    "#                         workspace=\"anastahir\", \n",
    "#                         log_code=True,\n",
    "#                         auto_histogram_tensorboard_logging=True,\n",
    "#                         auto_histogram_gradient_logging=True,\n",
    "#                         auto_histogram_activation_logging=True,\n",
    "#                         auto_output_logging=False,\n",
    "#                         )\n",
    "# experiment.add_tag('experiment_1')\n",
    "\n",
    "experiment = ExistingExperiment(api_key=\"MMehTpWSVV3FsYXMlNUCADXTQ\", \n",
    "                                previous_experiment='fd993dc5fb844712abaa6780224f79db')"
   ]
  },
  {
   "cell_type": "code",
   "execution_count": 2,
   "metadata": {},
   "outputs": [],
   "source": [
    "%config IPCompleter.greedy=True"
   ]
  },
  {
   "cell_type": "code",
   "execution_count": 3,
   "metadata": {},
   "outputs": [],
   "source": [
    "import tensorflow as tf\n",
    "gpus = tf.config.experimental.list_physical_devices('GPU')\n",
    "if gpus:\n",
    "    try:\n",
    "        for gpu in gpus:\n",
    "            tf.config.experimental.set_memory_growth(gpu, True)\n",
    "    except RuntimeError as e:\n",
    "        print(e)"
   ]
  },
  {
   "cell_type": "code",
   "execution_count": null,
   "metadata": {},
   "outputs": [],
   "source": [
    "%run train.py"
   ]
  }
 ],
 "metadata": {
  "kernelspec": {
   "display_name": "Python 3",
   "language": "python",
   "name": "python3"
  },
  "language_info": {
   "codemirror_mode": {
    "name": "ipython",
    "version": 3
   },
   "file_extension": ".py",
   "mimetype": "text/x-python",
   "name": "python",
   "nbconvert_exporter": "python",
   "pygments_lexer": "ipython3",
   "version": "3.7.8"
  }
 },
 "nbformat": 4,
 "nbformat_minor": 4
}
