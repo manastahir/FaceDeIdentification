{
 "cells": [
  {
   "cell_type": "code",
   "execution_count": null,
   "metadata": {},
   "outputs": [
    {
     "name": "stdout",
     "output_type": "stream",
     "text": [
      "2021-01-11 13:46:01.201591: I tensorflow/stream_executor/platform/default/dso_loader.cc:49] Successfully opened dynamic library libcudart.so.11.0\n",
      "backup files to ../experiments/experiment_1\n",
      "** Summary Writer **\n",
      "COMET INFO: Experiment is live on comet.ml https://www.comet.ml/anastahir/facedeidentification-pytorch-256/79ec271eaf6a4d4eb06c1101603c181f\n",
      "\n",
      "Stated new experiment with key 79ec271eaf6a4d4eb06c1101603c181f\n",
      "** create image generators **\n",
      "** generate face classifier **\n",
      "loading resnet weights\n",
      "** generate loss function **\n",
      "** initialize model **\n",
      "** set Checkpoint dir to: ../experiments/experiment_1/training_checkpoints **\n",
      "Number of parameters in Generator 149610880\n",
      "Number of parameters in Discriminator 454432\n",
      "** start training **\n",
      "** Sample step 1000 lamda 2e-06 starting iteration 0 index 0 generator length 7954 total iterations 230000**\n",
      "  0%|          | 0/230000 [00:00<?, ?it/s]\n",
      "/home/m_anastahir3/project/src/resnet.py:195: UserWarning: This overload of add is deprecated:\n",
      "\tadd(Tensor input, Number alpha, Tensor other, *, Tensor out)\n",
      "Consider using one of the following signatures instead:\n",
      "\tadd(Tensor input, Tensor other, *, Number alpha, Tensor out) (Triggered internally at  /opt/conda/conda-bld/pytorch_1607370156314/work/torch/csrc/utils/python_arg_parser.cpp:882.)\n",
      "  conv2_1 = torch.add(conv2_1_1x1_proj_bn, 1, conv2_1_1x1_increase_bn)\n"
     ]
    }
   ],
   "source": [
    "!python train.py"
   ]
  },
  {
   "cell_type": "code",
   "execution_count": null,
   "metadata": {},
   "outputs": [],
   "source": []
  }
 ],
 "metadata": {
  "kernelspec": {
   "display_name": "Python 3",
   "language": "python",
   "name": "python3"
  },
  "language_info": {
   "codemirror_mode": {
    "name": "ipython",
    "version": 3
   },
   "file_extension": ".py",
   "mimetype": "text/x-python",
   "name": "python",
   "nbconvert_exporter": "python",
   "pygments_lexer": "ipython3",
   "version": "3.7.8"
  }
 },
 "nbformat": 4,
 "nbformat_minor": 4
}
