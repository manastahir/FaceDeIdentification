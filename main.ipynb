{
 "cells": [
  {
   "cell_type": "code",
   "execution_count": 1,
   "metadata": {},
   "outputs": [
    {
     "name": "stderr",
     "output_type": "stream",
     "text": [
      "COMET INFO: Experiment is live on comet.ml https://www.comet.ml/anastahir/face-deidentification-256/fd993dc5fb844712abaa6780224f79db\n",
      "\n"
     ]
    }
   ],
   "source": [
    "from comet_ml import Experiment,ExistingExperiment\n",
    "\n",
    "# experiment = Experiment(api_key=\"MMehTpWSVV3FsYXMlNUCADXTQ\",\n",
    "#                         project_name=\"Face-deIdentification-256\", \n",
    "#                         workspace=\"anastahir\", \n",
    "#                         log_code=True,\n",
    "#                         auto_histogram_tensorboard_logging=True,\n",
    "#                         auto_histogram_gradient_logging=True,\n",
    "#                         auto_histogram_activation_logging=True,\n",
    "#                         auto_output_logging=False,\n",
    "#                         )\n",
    "# experiment.add_tag('experiment_1')\n",
    "\n",
    "experiment = ExistingExperiment(api_key=\"MMehTpWSVV3FsYXMlNUCADXTQ\", \n",
    "                                previous_experiment='fd993dc5fb844712abaa6780224f79db')"
   ]
  },
  {
   "cell_type": "code",
   "execution_count": 2,
   "metadata": {},
   "outputs": [],
   "source": [
    "%config IPCompleter.greedy=True"
   ]
  },
  {
   "cell_type": "code",
   "execution_count": 3,
   "metadata": {},
   "outputs": [],
   "source": [
    "import tensorflow as tf\n",
    "gpus = tf.config.experimental.list_physical_devices('GPU')\n",
    "if gpus:\n",
    "    try:\n",
    "        for gpu in gpus:\n",
    "            tf.config.experimental.set_memory_growth(gpu, True)\n",
    "    except RuntimeError as e:\n",
    "        print(e)"
   ]
  },
  {
   "cell_type": "code",
   "execution_count": null,
   "metadata": {},
   "outputs": [
    {
     "name": "stdout",
     "output_type": "stream",
     "text": [
      "INFO:tensorflow:Using MirroredStrategy with devices ('/job:localhost/replica:0/task:0/device:GPU:0', '/job:localhost/replica:0/task:0/device:GPU:1')\n",
      "*****Using <tensorflow.python.distribute.mirrored_strategy.MirroredStrategy object at 0x7f03e0fcf8d0>*****\n",
      "*****Setting checkpoint_prefix to ../experiments/experiment_1/training_checkpoints*****\n",
      "*****Making Data Genertor*****\n",
      "*****Making Loss Function*****\n",
      "*****Making Maps Model*****\n"
     ]
    },
    {
     "name": "stderr",
     "output_type": "stream",
     "text": [
      "  0%|          | 0/80000 [00:00<?, ?it/s]"
     ]
    },
    {
     "name": "stdout",
     "output_type": "stream",
     "text": [
      "*****Making Main Model*****\n",
      "*****Iteration: 0, Starting-idx: 0, Total-Iterations:80000, Lambda:2e-06, Num-replicas:2*****\n",
      "starting training\n",
      "INFO:tensorflow:batch_all_reduce: 11 all-reduces with algorithm = nccl, num_packs = 1\n",
      "INFO:tensorflow:batch_all_reduce: 57 all-reduces with algorithm = nccl, num_packs = 1\n",
      "INFO:tensorflow:batch_all_reduce: 11 all-reduces with algorithm = nccl, num_packs = 1\n",
      "INFO:tensorflow:batch_all_reduce: 57 all-reduces with algorithm = nccl, num_packs = 1\n",
      "INFO:tensorflow:Reduce to /job:localhost/replica:0/task:0/device:CPU:0 then broadcast to ('/job:localhost/replica:0/task:0/device:CPU:0',).\n",
      "INFO:tensorflow:Reduce to /job:localhost/replica:0/task:0/device:CPU:0 then broadcast to ('/job:localhost/replica:0/task:0/device:CPU:0',).\n"
     ]
    },
    {
     "name": "stderr",
     "output_type": "stream",
     "text": [
      "  0%|          | 59/80000 [05:10<122:54:20,  5.53s/it]"
     ]
    }
   ],
   "source": [
    "%run train.py"
   ]
  },
  {
   "cell_type": "code",
   "execution_count": null,
   "metadata": {},
   "outputs": [],
   "source": []
  }
 ],
 "metadata": {
  "kernelspec": {
   "display_name": "Python 3",
   "language": "python",
   "name": "python3"
  },
  "language_info": {
   "codemirror_mode": {
    "name": "ipython",
    "version": 3
   },
   "file_extension": ".py",
   "mimetype": "text/x-python",
   "name": "python",
   "nbconvert_exporter": "python",
   "pygments_lexer": "ipython3",
   "version": "3.7.8"
  }
 },
 "nbformat": 4,
 "nbformat_minor": 4
}
