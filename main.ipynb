{
 "cells": [
  {
   "cell_type": "code",
   "execution_count": 67,
   "metadata": {},
   "outputs": [
    {
     "name": "stdout",
     "output_type": "stream",
     "text": [
      "2021-01-11 13:46:01.201591: I tensorflow/stream_executor/platform/default/dso_loader.cc:49] Successfully opened dynamic library libcudart.so.11.0\n",
      "backup files to ../experiments/experiment_1\n",
      "** Summary Writer **\n",
      "COMET INFO: Experiment is live on comet.ml https://www.comet.ml/anastahir/facedeidentification-pytorch-256/79ec271eaf6a4d4eb06c1101603c181f\n",
      "\n",
      "Stated new experiment with key 79ec271eaf6a4d4eb06c1101603c181f\n",
      "** create image generators **\n",
      "** generate face classifier **\n",
      "loading resnet weights\n",
      "** generate loss function **\n",
      "** initialize model **\n",
      "** set Checkpoint dir to: ../experiments/experiment_1/training_checkpoints **\n",
      "Number of parameters in Generator 149610880\n",
      "Number of parameters in Discriminator 454432\n",
      "** start training **\n",
      "** Sample step 1000 lamda 2e-06 starting iteration 0 index 0 generator length 7954 total iterations 230000**\n",
      "  0%|          | 0/230000 [00:00<?, ?it/s]\n",
      "/home/m_anastahir3/project/src/resnet.py:195: UserWarning: This overload of add is deprecated:\n",
      "\tadd(Tensor input, Number alpha, Tensor other, *, Tensor out)\n",
      "Consider using one of the following signatures instead:\n",
      "\tadd(Tensor input, Tensor other, *, Number alpha, Tensor out) (Triggered internally at  /opt/conda/conda-bld/pytorch_1607370156314/work/torch/csrc/utils/python_arg_parser.cpp:882.)\n",
      "  conv2_1 = torch.add(conv2_1_1x1_proj_bn, 1, conv2_1_1x1_increase_bn)\n",
      "^C\n",
      "Traceback (most recent call last):\n",
      "  File \"train.py\", line 231, in <module>\n",
      "    main()\n",
      "  File \"train.py\", line 170, in main\n",
      "    for source, target, real in train_sequence:\n",
      "  File \"/home/m_anastahir3/project/src/datagenerator.py\", line 49, in __getitem__\n",
      "    source = self.augmenter.trasnform(real.copy())\n",
      "  File \"/home/m_anastahir3/project/src/augmentation.py\", line 46, in trasnform\n",
      "    for image in batch])\n",
      "  File \"/home/m_anastahir3/project/src/augmentation.py\", line 46, in <listcomp>\n",
      "    for image in batch])\n",
      "  File \"/opt/conda/lib/python3.7/site-packages/elasticdeform/deform_grid.py\", line 49, in deform_random_grid\n",
      "    return deform_grid(X, displacement, order, mode, cval, crop, prefilter, axis, affine, rotate, zoom)\n",
      "  File \"/opt/conda/lib/python3.7/site-packages/elasticdeform/deform_grid.py\", line 174, in deform_grid\n",
      "    _deform_grid.deform_grid(Xs_f, displacement_f, output_offset, outputs, axis, order, mode, cval, inverse_affine)\n",
      "KeyboardInterrupt\n",
      "COMET INFO: ---------------------------\n",
      "COMET INFO: Comet.ml Experiment Summary\n",
      "COMET INFO: ---------------------------\n",
      "COMET INFO:   Data:\n",
      "COMET INFO:     display_summary_level : 1\n",
      "COMET INFO:     url                   : https://www.comet.ml/anastahir/facedeidentification-pytorch-256/79ec271eaf6a4d4eb06c1101603c181f\n",
      "COMET INFO:   Metrics [count] (min, max):\n",
      "COMET INFO:     train_1x1 [45]        : (1.2881629467010498, 1.3675150871276855)\n",
      "COMET INFO:     train_Accuracy [45]   : 45\n",
      "COMET INFO:     train_L2_loss [45]    : (0.3291867971420288, 0.7089712023735046)\n",
      "COMET INFO:     train_loss [9]        : (0.4086577594280243, 1.1148478984832764)\n",
      "COMET INFO:     train_total_loss [45] : (0.8879575133323669, 1.1948866844177246)\n",
      "COMET INFO:   Uploads:\n",
      "COMET INFO:     environment details : 1\n",
      "COMET INFO:     filename            : 1\n",
      "COMET INFO:     installed packages  : 1\n",
      "COMET INFO:     model graph         : 1\n",
      "COMET INFO:     os packages         : 1\n",
      "COMET INFO: ---------------------------\n"
     ]
    }
   ],
   "source": [
    "!python train.py"
   ]
  },
  {
   "cell_type": "code",
   "execution_count": null,
   "metadata": {},
   "outputs": [],
   "source": []
  }
 ],
 "metadata": {
  "kernelspec": {
   "display_name": "Python 3",
   "language": "python",
   "name": "python3"
  },
  "language_info": {
   "codemirror_mode": {
    "name": "ipython",
    "version": 3
   },
   "file_extension": ".py",
   "mimetype": "text/x-python",
   "name": "python",
   "nbconvert_exporter": "python",
   "pygments_lexer": "ipython3",
   "version": "3.7.8"
  }
 },
 "nbformat": 4,
 "nbformat_minor": 4
}
