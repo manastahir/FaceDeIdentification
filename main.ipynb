{
 "cells": [
  {
   "cell_type": "code",
   "execution_count": null,
   "metadata": {},
   "outputs": [
    {
     "name": "stdout",
     "output_type": "stream",
     "text": [
      "2021-01-11 17:56:21.734128: I tensorflow/stream_executor/platform/default/dso_loader.cc:49] Successfully opened dynamic library libcudart.so.11.0\n",
      "backup files to ../experiments/experiment_1\n",
      "cp: cannot create regular file '../experiments/experiment_1/./.git/objects/17/a42059e9e4ab802ceed8f5c6b899d56c38e5c4': Permission denied\n",
      "cp: cannot create regular file '../experiments/experiment_1/./.git/objects/3a/8fac11e5e9746c1ed56f8ca958c86ccec5b752': Permission denied\n",
      "cp: cannot create regular file '../experiments/experiment_1/./.git/objects/e0/f9549870fac2aeb4d0932226fa6b14bfd4f1c8': Permission denied\n",
      "cp: cannot create regular file '../experiments/experiment_1/./.git/objects/12/70fb455e16c04135bb95fac60111f367bcb922': Permission denied\n",
      "cp: cannot create regular file '../experiments/experiment_1/./.git/objects/09/2c4ac91ab5252f1d0f6dcbfd02c9f4d57280b1': Permission denied\n",
      "cp: cannot create regular file '../experiments/experiment_1/./.git/objects/46/692d7260a44aee7cce9888591f1d41036f79b9': Permission denied\n",
      "cp: cannot create regular file '../experiments/experiment_1/./.git/objects/15/9a7287030f2ecc6a35b5e5bd2e445f85628c0f': Permission denied\n",
      "cp: cannot create regular file '../experiments/experiment_1/./.git/objects/48/d9cf8cc4c9254132bf01fcf9975b21f5417f3b': Permission denied\n",
      "cp: cannot create regular file '../experiments/experiment_1/./.git/objects/4f/118e785bb3c0a7eef78fdc657c912fb2bc2317': Permission denied\n",
      "cp: cannot create regular file '../experiments/experiment_1/./.git/objects/c5/8a3c2dbe121c678973605a0f126888bc3bf200': Permission denied\n",
      "cp: cannot create regular file '../experiments/experiment_1/./.git/objects/c5/ad6024d61d89da160ae55e27dea50aa413cde6': Permission denied\n",
      "cp: cannot create regular file '../experiments/experiment_1/./.git/objects/e4/9c25314823095d617a4e2c823cfa07e1554932': Permission denied\n",
      "cp: cannot create regular file '../experiments/experiment_1/./.git/objects/0b/df0659aa6e3df8228cafc7ffa17fd76dbb73ee': Permission denied\n",
      "cp: cannot create regular file '../experiments/experiment_1/./.git/objects/fd/f3f36a27611bb8eeafd8d174039161011f75ac': Permission denied\n",
      "cp: cannot create regular file '../experiments/experiment_1/./.git/objects/73/b7a812ca0089f77949c96b381097727db6e8bc': Permission denied\n",
      "cp: cannot create regular file '../experiments/experiment_1/./.git/objects/22/1d5875e4d7ceb1503d2d20b1090dd1b1cf92a5': Permission denied\n",
      "cp: cannot create regular file '../experiments/experiment_1/./.git/objects/ff/96ff6c3dbfa5ef6461bcaadc4a57a34c837032': Permission denied\n",
      "cp: cannot create regular file '../experiments/experiment_1/./.git/objects/18/57c0bcdbe2f68c52f82d2c04d4371e91d85c52': Permission denied\n",
      "cp: cannot create regular file '../experiments/experiment_1/./.git/objects/59/542065c426bb2fcde314218e2753543ec16daf': Permission denied\n",
      "cp: cannot create regular file '../experiments/experiment_1/./.git/objects/1a/b8777e561fed75bd6a78b37eca4f3f1c847060': Permission denied\n",
      "cp: cannot create regular file '../experiments/experiment_1/./.git/objects/72/0c18a44cd7694024da46f2c2063e5613d68f9c': Permission denied\n",
      "cp: cannot create regular file '../experiments/experiment_1/./.git/objects/d5/38cba0a74257b3aed0f1b483fbdbe145f4da51': Permission denied\n",
      "cp: cannot create regular file '../experiments/experiment_1/./.git/objects/85/07c8acf6326798399a56fa685498edc2cda44b': Permission denied\n",
      "cp: cannot create regular file '../experiments/experiment_1/./.git/objects/0f/7ae4fc83db2a030192a47dfa2549495f841084': Permission denied\n",
      "cp: cannot create regular file '../experiments/experiment_1/./.git/objects/dc/746884a3024e3ee89fb52600bcb91b4d9fa95c': Permission denied\n",
      "cp: cannot create regular file '../experiments/experiment_1/./.git/objects/05/41d3e9039731dad4e98212520a8bbe860fab58': Permission denied\n",
      "cp: cannot create regular file '../experiments/experiment_1/./.git/objects/88/4c1718dff4320df4ed9732a644f23a5326ccfd': Permission denied\n",
      "** Summary Writer **\n",
      "COMET INFO: Experiment is live on comet.ml https://www.comet.ml/anastahir/facedeidentification-pytorch-256/0d5651d2d4bd4657b9402c6e030fb880\n",
      "\n",
      "Stated new experiment with key 0d5651d2d4bd4657b9402c6e030fb880\n",
      "** create image generators **\n",
      "** generate face classifier **\n",
      "loading resnet weights\n",
      "** generate loss function **\n",
      "** initialize model **\n",
      "** set Checkpoint dir to: ../experiments/experiment_1/training_checkpoints **\n",
      "Number of parameters in Generator 149610880\n",
      "Number of parameters in Discriminator 454432\n",
      "** start training **\n",
      "** Sample step 1000 lamda 2e-06 starting iteration 0 index 0 generator length 1018218 total iterations 80000**\n",
      "  0%|                                                 | 0/80000 [00:00<?, ?it/s]/home/m_anastahir3/project/src/resnet.py:195: UserWarning: This overload of add is deprecated:\n",
      "\tadd(Tensor input, Number alpha, Tensor other, *, Tensor out)\n",
      "Consider using one of the following signatures instead:\n",
      "\tadd(Tensor input, Tensor other, *, Number alpha, Tensor out) (Triggered internally at  /opt/conda/conda-bld/pytorch_1607370156314/work/torch/csrc/utils/python_arg_parser.cpp:882.)\n",
      "  conv2_1 = torch.add(conv2_1_1x1_proj_bn, 1, conv2_1_1x1_increase_bn)\n",
      "  0%|                                    | 141/80000 [05:24<47:10:13,  2.13s/it]"
     ]
    }
   ],
   "source": [
    "!python train.py"
   ]
  },
  {
   "cell_type": "code",
   "execution_count": null,
   "metadata": {},
   "outputs": [],
   "source": []
  },
  {
   "cell_type": "code",
   "execution_count": null,
   "metadata": {},
   "outputs": [],
   "source": []
  }
 ],
 "metadata": {
  "kernelspec": {
   "display_name": "Python 3",
   "language": "python",
   "name": "python3"
  },
  "language_info": {
   "codemirror_mode": {
    "name": "ipython",
    "version": 3
   },
   "file_extension": ".py",
   "mimetype": "text/x-python",
   "name": "python",
   "nbconvert_exporter": "python",
   "pygments_lexer": "ipython3",
   "version": "3.7.8"
  }
 },
 "nbformat": 4,
 "nbformat_minor": 4
}
